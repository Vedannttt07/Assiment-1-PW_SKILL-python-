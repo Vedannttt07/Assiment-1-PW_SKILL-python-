{
 "cells": [
  {
   "cell_type": "code",
   "execution_count": 5,
   "id": "60d64764-02cd-44d6-8b59-0df02b97a55e",
   "metadata": {},
   "outputs": [],
   "source": [
    "b = 'vedant'"
   ]
  },
  {
   "cell_type": "code",
   "execution_count": 6,
   "id": "1ae5345a-cb5c-4a31-bfe6-706d9dd1d939",
   "metadata": {},
   "outputs": [
    {
     "data": {
      "text/plain": [
       "'vedant'"
      ]
     },
     "execution_count": 6,
     "metadata": {},
     "output_type": "execute_result"
    }
   ],
   "source": [
    "b"
   ]
  },
  {
   "cell_type": "code",
   "execution_count": 7,
   "id": "c502254d-f010-4810-b5a8-ef69191dc6a1",
   "metadata": {},
   "outputs": [
    {
     "data": {
      "text/plain": [
       "str"
      ]
     },
     "execution_count": 7,
     "metadata": {},
     "output_type": "execute_result"
    }
   ],
   "source": [
    "type(b)"
   ]
  },
  {
   "cell_type": "code",
   "execution_count": 13,
   "id": "b4357e52-dd52-4582-988f-65428d42492b",
   "metadata": {},
   "outputs": [],
   "source": [
    "l = ['vedant', 1, 2, 3, 4, 5]"
   ]
  },
  {
   "cell_type": "code",
   "execution_count": 14,
   "id": "0b093a9a-1224-4575-97e2-2e62005f4862",
   "metadata": {},
   "outputs": [
    {
     "data": {
      "text/plain": [
       "list"
      ]
     },
     "execution_count": 14,
     "metadata": {},
     "output_type": "execute_result"
    }
   ],
   "source": [
    "type (l)"
   ]
  },
  {
   "cell_type": "code",
   "execution_count": 15,
   "id": "9ce9bf43-5b9f-4ca2-ae87-0b7d86a42d1b",
   "metadata": {},
   "outputs": [],
   "source": [
    "c = 3.005"
   ]
  },
  {
   "cell_type": "code",
   "execution_count": 16,
   "id": "4af88038-df20-449f-afd7-ead6806f4bdf",
   "metadata": {},
   "outputs": [
    {
     "data": {
      "text/plain": [
       "float"
      ]
     },
     "execution_count": 16,
     "metadata": {},
     "output_type": "execute_result"
    }
   ],
   "source": [
    "type (c)"
   ]
  },
  {
   "cell_type": "code",
   "execution_count": 21,
   "id": "4401568e-e27e-4b58-877b-06e2399e10dc",
   "metadata": {},
   "outputs": [],
   "source": [
    "t = ( 1, 'vedant' , 2, 4 , 'neel', [7,8,9],)"
   ]
  },
  {
   "cell_type": "code",
   "execution_count": 22,
   "id": "a6fb5961-dd80-4258-adb9-693eb8077ceb",
   "metadata": {},
   "outputs": [
    {
     "data": {
      "text/plain": [
       "tuple"
      ]
     },
     "execution_count": 22,
     "metadata": {},
     "output_type": "execute_result"
    }
   ],
   "source": [
    "type (t)"
   ]
  },
  {
   "cell_type": "code",
   "execution_count": 27,
   "id": "6c4d235d-f4fc-4265-907d-be1dfef64eef",
   "metadata": {},
   "outputs": [],
   "source": [
    "var1 = ' '"
   ]
  },
  {
   "cell_type": "code",
   "execution_count": 29,
   "id": "e0cf6c21-140b-428f-8a20-aa92d3a8fcd9",
   "metadata": {},
   "outputs": [
    {
     "data": {
      "text/plain": [
       "str"
      ]
     },
     "execution_count": 29,
     "metadata": {},
     "output_type": "execute_result"
    }
   ],
   "source": [
    "type (var1)"
   ]
  },
  {
   "cell_type": "code",
   "execution_count": 32,
   "id": "45691db0-c2e6-446b-84a9-6b3577dd8da3",
   "metadata": {},
   "outputs": [],
   "source": [
    "var2 = '[DS , ML , Python]'"
   ]
  },
  {
   "cell_type": "code",
   "execution_count": 33,
   "id": "9f4b0bbd-f48e-4cd4-913d-ad477fa8968e",
   "metadata": {},
   "outputs": [
    {
     "data": {
      "text/plain": [
       "str"
      ]
     },
     "execution_count": 33,
     "metadata": {},
     "output_type": "execute_result"
    }
   ],
   "source": [
    "type (var2)"
   ]
  },
  {
   "cell_type": "code",
   "execution_count": 34,
   "id": "496d8d22-7622-4c02-9884-199098c854a9",
   "metadata": {},
   "outputs": [],
   "source": [
    "var3 = ['DS' , 'ML' , 'Python']"
   ]
  },
  {
   "cell_type": "code",
   "execution_count": 35,
   "id": "81c584ff-39ba-4161-bc93-a1ad4893d2d2",
   "metadata": {},
   "outputs": [
    {
     "data": {
      "text/plain": [
       "list"
      ]
     },
     "execution_count": 35,
     "metadata": {},
     "output_type": "execute_result"
    }
   ],
   "source": [
    "type (var3)"
   ]
  },
  {
   "cell_type": "code",
   "execution_count": 36,
   "id": "7918484f-306e-4163-ad35-bb656b370537",
   "metadata": {},
   "outputs": [],
   "source": [
    "var4 = 1 "
   ]
  },
  {
   "cell_type": "code",
   "execution_count": 37,
   "id": "fedb151c-a54a-4380-bf7f-1b1700069981",
   "metadata": {},
   "outputs": [
    {
     "data": {
      "text/plain": [
       "int"
      ]
     },
     "execution_count": 37,
     "metadata": {},
     "output_type": "execute_result"
    }
   ],
   "source": [
    "type(var4)"
   ]
  },
  {
   "cell_type": "code",
   "execution_count": 40,
   "id": "067bf8e3-2900-4184-ba0a-b7af592b1908",
   "metadata": {},
   "outputs": [
    {
     "data": {
      "text/plain": [
       "0.0"
      ]
     },
     "execution_count": 40,
     "metadata": {},
     "output_type": "execute_result"
    }
   ],
   "source": [
    "False/True"
   ]
  },
  {
   "cell_type": "code",
   "execution_count": 50,
   "id": "f271428e-9f30-4b01-987e-5f4ec53ad397",
   "metadata": {},
   "outputs": [
    {
     "data": {
      "text/plain": [
       "4"
      ]
     },
     "execution_count": 50,
     "metadata": {},
     "output_type": "execute_result"
    }
   ],
   "source": [
    "4%100"
   ]
  },
  {
   "cell_type": "code",
   "execution_count": 51,
   "id": "afa62cf8-a28a-4906-91f7-551fa6718b55",
   "metadata": {},
   "outputs": [
    {
     "data": {
      "text/plain": [
       "0"
      ]
     },
     "execution_count": 51,
     "metadata": {},
     "output_type": "execute_result"
    }
   ],
   "source": [
    "5//10"
   ]
  },
  {
   "cell_type": "code",
   "execution_count": 53,
   "id": "4371dfd5-a934-4ab3-b77e-13f79c11686c",
   "metadata": {},
   "outputs": [
    {
     "data": {
      "text/plain": [
       "243"
      ]
     },
     "execution_count": 53,
     "metadata": {},
     "output_type": "execute_result"
    }
   ],
   "source": [
    "3**5"
   ]
  },
  {
   "cell_type": "code",
   "execution_count": 54,
   "id": "640f5be8-d06b-4af4-85f2-c85f0811baa3",
   "metadata": {},
   "outputs": [],
   "source": [
    "l = ( 1, 2, 'neel', 'Vedaant', 3.00 , 3+4j , 299, 'pari' ,4 ,7, )"
   ]
  },
  {
   "cell_type": "code",
   "execution_count": 65,
   "id": "2dda9e08-ea29-4079-afb6-e97cb71ea9ee",
   "metadata": {},
   "outputs": [
    {
     "name": "stdout",
     "output_type": "stream",
     "text": [
      "1 : <class 'int'>\n",
      "2 : <class 'int'>\n",
      "neel : <class 'str'>\n",
      "Vedaant : <class 'str'>\n",
      "3.0 : <class 'float'>\n",
      "(3+4j) : <class 'complex'>\n",
      "299 : <class 'int'>\n",
      "pari : <class 'str'>\n",
      "4 : <class 'int'>\n",
      "7 : <class 'int'>\n"
     ]
    }
   ],
   "source": [
    "for element in l:\n",
    "    print(f\"{element} : {type(element)}\")"
   ]
  },
  {
   "cell_type": "code",
   "execution_count": 6,
   "id": "cdca128b-7f1c-4314-8a30-b7119a4b7f33",
   "metadata": {},
   "outputs": [
    {
     "name": "stdin",
     "output_type": "stream",
     "text": [
      "Enter the number A:  4\n",
      "Enter the number B:  2\n"
     ]
    },
    {
     "name": "stdout",
     "output_type": "stream",
     "text": [
      "2 times purely divisible by 2\n"
     ]
    }
   ],
   "source": [
    "# Input values\n",
    "A = int(input(\"Enter the number A: \"))\n",
    "B = int(input(\"Enter the number B: \"))\n",
    "count = 0\n",
    "while A % B == 0:\n",
    "    A = A // B  \n",
    "    count += 1\n",
    "if A == 1:\n",
    "    print(f\"{count} times purely divisible by {B}\")\n",
    "else:\n",
    "    print(f\"{B} does not purely divide {A}\")\n"
   ]
  },
  {
   "cell_type": "code",
   "execution_count": 30,
   "id": "b390057b-e16f-4d56-a31f-e494d78a1dc2",
   "metadata": {},
   "outputs": [],
   "source": [
    "list = [i for i in range(1,26)]"
   ]
  },
  {
   "cell_type": "code",
   "execution_count": 31,
   "id": "71207cde-03d0-4e60-8068-d467f2325964",
   "metadata": {},
   "outputs": [
    {
     "name": "stdout",
     "output_type": "stream",
     "text": [
      "element is not divided by 3\n",
      "element is not divided by 3\n",
      "element is divided by 3\n",
      "element is not divided by 3\n",
      "element is not divided by 3\n",
      "element is divided by 3\n",
      "element is not divided by 3\n",
      "element is not divided by 3\n",
      "element is divided by 3\n",
      "element is not divided by 3\n",
      "element is not divided by 3\n",
      "element is divided by 3\n",
      "element is not divided by 3\n",
      "element is not divided by 3\n",
      "element is divided by 3\n",
      "element is not divided by 3\n",
      "element is not divided by 3\n",
      "element is divided by 3\n",
      "element is not divided by 3\n",
      "element is not divided by 3\n",
      "element is divided by 3\n",
      "element is not divided by 3\n",
      "element is not divided by 3\n",
      "element is divided by 3\n",
      "element is not divided by 3\n"
     ]
    }
   ],
   "source": [
    " for element in list:\n",
    "    if element % 3 == 0:\n",
    "        print(\"element is divided by 3\")\n",
    "    else:\n",
    "                print(\"element is not divided by 3\")"
   ]
  },
  {
   "cell_type": "code",
   "execution_count": 12,
   "id": "615cf4ed-f7ed-41ac-8caa-cb79274c126d",
   "metadata": {},
   "outputs": [
    {
     "name": "stdout",
     "output_type": "stream",
     "text": [
      " hello\n"
     ]
    }
   ],
   "source": [
    "string = \" hello World\"\n",
    "substring = string [0:6]\n",
    "print (substring)\n",
    "\n"
   ]
  },
  {
   "cell_type": "code",
   "execution_count": null,
   "id": "531ae8e2-cbbf-491e-913d-afd5d342f5c5",
   "metadata": {},
   "outputs": [],
   "source": [
    "Mutable and immutable data types are concepts in programming that describe whether a data structure can be changed after it's created. Mutable data types can be modified, whereas immutable data types cannot be modified once they are created."
   ]
  },
  {
   "cell_type": "code",
   "execution_count": null,
   "id": "e97f8d21-1112-4bb0-98b1-5196883f477a",
   "metadata": {},
   "outputs": [],
   "source": []
  }
 ],
 "metadata": {
  "kernelspec": {
   "display_name": "Python 3 (ipykernel)",
   "language": "python",
   "name": "python3"
  },
  "language_info": {
   "codemirror_mode": {
    "name": "ipython",
    "version": 3
   },
   "file_extension": ".py",
   "mimetype": "text/x-python",
   "name": "python",
   "nbconvert_exporter": "python",
   "pygments_lexer": "ipython3",
   "version": "3.10.8"
  }
 },
 "nbformat": 4,
 "nbformat_minor": 5
}
